{
 "cells": [
  {
   "cell_type": "markdown",
   "metadata": {},
   "source": [
    "# Employee Attrition Prediction"
   ]
  },
  {
   "cell_type": "code",
   "execution_count": 2,
   "metadata": {},
   "outputs": [],
   "source": [
    "# Load libraries\n",
    "import pandas as pd\n",
    "import numpy as np\n",
    "import matplotlib.pyplot as plt \n",
    "plt.rc(\"font\", size=14)\n",
    "import sklearn\n",
    "from sklearn.model_selection import train_test_split\n",
    "from sklearn.metrics import accuracy_score\n",
    "import seaborn as sns\n",
    "sns.set(style=\"white\")\n",
    "sns.set(style=\"whitegrid\", color_codes=True)\n",
    "from sklearn import tree\n",
    "from IPython.display import Image as PImage\n",
    "from subprocess import check_call\n",
    "from PIL import Image, ImageDraw, ImageFont\n",
    "import re"
   ]
  },
  {
   "cell_type": "code",
   "execution_count": 3,
   "metadata": {},
   "outputs": [],
   "source": [
    "# Load data\n",
    "Employee_Details = pd.read_csv('Data.csv', header=0, low_memory=\"FALSE\")"
   ]
  },
  {
   "cell_type": "code",
   "execution_count": 4,
   "metadata": {
    "scrolled": true
   },
   "outputs": [
    {
     "data": {
      "text/plain": [
       "array(['Age', 'Attrition', 'BusinessTravel', 'DailyRate', 'Department',\n",
       "       'DistanceFromHome', 'Education', 'EducationField', 'EmployeeCount',\n",
       "       'EmployeeNumber', 'EnvironmentSatisfaction', 'Gender',\n",
       "       'HourlyRate', 'JobInvolvement', 'JobLevel', 'JobRole',\n",
       "       'JobSatisfaction', 'MaritalStatus', 'MonthlyIncome', 'MonthlyRate',\n",
       "       'NumCompaniesWorked', 'Over18', 'OverTime', 'PercentSalaryHike',\n",
       "       'PerformanceRating', 'RelationshipSatisfaction', 'StandardHours',\n",
       "       'StockOptionLevel', 'TotalWorkingYears', 'TrainingTimesLastYear',\n",
       "       'WorkLifeBalance', 'YearsAtCompany', 'YearsInCurrentRole',\n",
       "       'YearsSinceLastPromotion', 'YearsWithCurrManager'], dtype=object)"
      ]
     },
     "execution_count": 4,
     "metadata": {},
     "output_type": "execute_result"
    }
   ],
   "source": [
    "# List of columns\n",
    "Employee_Details.columns.values"
   ]
  },
  {
   "cell_type": "code",
   "execution_count": 5,
   "metadata": {},
   "outputs": [],
   "source": [
    "# Removing columns with redundant information & collinear \n",
    "Employee_Details = Employee_Details.drop(['EmployeeCount', 'EmployeeNumber','Over18', \n",
    "                                          'StandardHours'], axis=1)"
   ]
  },
  {
   "cell_type": "code",
   "execution_count": 6,
   "metadata": {},
   "outputs": [
    {
     "data": {
      "text/html": [
       "<div>\n",
       "<style scoped>\n",
       "    .dataframe tbody tr th:only-of-type {\n",
       "        vertical-align: middle;\n",
       "    }\n",
       "\n",
       "    .dataframe tbody tr th {\n",
       "        vertical-align: top;\n",
       "    }\n",
       "\n",
       "    .dataframe thead th {\n",
       "        text-align: right;\n",
       "    }\n",
       "</style>\n",
       "<table border=\"1\" class=\"dataframe\">\n",
       "  <thead>\n",
       "    <tr style=\"text-align: right;\">\n",
       "      <th></th>\n",
       "      <th>Age</th>\n",
       "      <th>Attrition</th>\n",
       "      <th>BusinessTravel</th>\n",
       "      <th>DailyRate</th>\n",
       "      <th>Department</th>\n",
       "      <th>DistanceFromHome</th>\n",
       "      <th>Education</th>\n",
       "      <th>EducationField</th>\n",
       "      <th>EnvironmentSatisfaction</th>\n",
       "      <th>Gender</th>\n",
       "      <th>...</th>\n",
       "      <th>PerformanceRating</th>\n",
       "      <th>RelationshipSatisfaction</th>\n",
       "      <th>StockOptionLevel</th>\n",
       "      <th>TotalWorkingYears</th>\n",
       "      <th>TrainingTimesLastYear</th>\n",
       "      <th>WorkLifeBalance</th>\n",
       "      <th>YearsAtCompany</th>\n",
       "      <th>YearsInCurrentRole</th>\n",
       "      <th>YearsSinceLastPromotion</th>\n",
       "      <th>YearsWithCurrManager</th>\n",
       "    </tr>\n",
       "  </thead>\n",
       "  <tbody>\n",
       "    <tr>\n",
       "      <th>0</th>\n",
       "      <td>41</td>\n",
       "      <td>Yes</td>\n",
       "      <td>Travel_Rarely</td>\n",
       "      <td>1102</td>\n",
       "      <td>Sales</td>\n",
       "      <td>1</td>\n",
       "      <td>2</td>\n",
       "      <td>Life Sciences</td>\n",
       "      <td>2</td>\n",
       "      <td>Female</td>\n",
       "      <td>...</td>\n",
       "      <td>3</td>\n",
       "      <td>1</td>\n",
       "      <td>0</td>\n",
       "      <td>8</td>\n",
       "      <td>0</td>\n",
       "      <td>1</td>\n",
       "      <td>6</td>\n",
       "      <td>4</td>\n",
       "      <td>0</td>\n",
       "      <td>5</td>\n",
       "    </tr>\n",
       "    <tr>\n",
       "      <th>1</th>\n",
       "      <td>49</td>\n",
       "      <td>No</td>\n",
       "      <td>Travel_Frequently</td>\n",
       "      <td>279</td>\n",
       "      <td>Research &amp; Development</td>\n",
       "      <td>8</td>\n",
       "      <td>1</td>\n",
       "      <td>Life Sciences</td>\n",
       "      <td>3</td>\n",
       "      <td>Male</td>\n",
       "      <td>...</td>\n",
       "      <td>4</td>\n",
       "      <td>4</td>\n",
       "      <td>1</td>\n",
       "      <td>10</td>\n",
       "      <td>3</td>\n",
       "      <td>3</td>\n",
       "      <td>10</td>\n",
       "      <td>7</td>\n",
       "      <td>1</td>\n",
       "      <td>7</td>\n",
       "    </tr>\n",
       "    <tr>\n",
       "      <th>2</th>\n",
       "      <td>37</td>\n",
       "      <td>Yes</td>\n",
       "      <td>Travel_Rarely</td>\n",
       "      <td>1373</td>\n",
       "      <td>Research &amp; Development</td>\n",
       "      <td>2</td>\n",
       "      <td>2</td>\n",
       "      <td>Other</td>\n",
       "      <td>4</td>\n",
       "      <td>Male</td>\n",
       "      <td>...</td>\n",
       "      <td>3</td>\n",
       "      <td>2</td>\n",
       "      <td>0</td>\n",
       "      <td>7</td>\n",
       "      <td>3</td>\n",
       "      <td>3</td>\n",
       "      <td>0</td>\n",
       "      <td>0</td>\n",
       "      <td>0</td>\n",
       "      <td>0</td>\n",
       "    </tr>\n",
       "    <tr>\n",
       "      <th>3</th>\n",
       "      <td>33</td>\n",
       "      <td>No</td>\n",
       "      <td>Travel_Frequently</td>\n",
       "      <td>1392</td>\n",
       "      <td>Research &amp; Development</td>\n",
       "      <td>3</td>\n",
       "      <td>4</td>\n",
       "      <td>Life Sciences</td>\n",
       "      <td>4</td>\n",
       "      <td>Female</td>\n",
       "      <td>...</td>\n",
       "      <td>3</td>\n",
       "      <td>3</td>\n",
       "      <td>0</td>\n",
       "      <td>8</td>\n",
       "      <td>3</td>\n",
       "      <td>3</td>\n",
       "      <td>8</td>\n",
       "      <td>7</td>\n",
       "      <td>3</td>\n",
       "      <td>0</td>\n",
       "    </tr>\n",
       "    <tr>\n",
       "      <th>4</th>\n",
       "      <td>27</td>\n",
       "      <td>No</td>\n",
       "      <td>Travel_Rarely</td>\n",
       "      <td>591</td>\n",
       "      <td>Research &amp; Development</td>\n",
       "      <td>2</td>\n",
       "      <td>1</td>\n",
       "      <td>Medical</td>\n",
       "      <td>1</td>\n",
       "      <td>Male</td>\n",
       "      <td>...</td>\n",
       "      <td>3</td>\n",
       "      <td>4</td>\n",
       "      <td>1</td>\n",
       "      <td>6</td>\n",
       "      <td>3</td>\n",
       "      <td>3</td>\n",
       "      <td>2</td>\n",
       "      <td>2</td>\n",
       "      <td>2</td>\n",
       "      <td>2</td>\n",
       "    </tr>\n",
       "  </tbody>\n",
       "</table>\n",
       "<p>5 rows × 31 columns</p>\n",
       "</div>"
      ],
      "text/plain": [
       "   Age Attrition     BusinessTravel  DailyRate              Department  \\\n",
       "0   41       Yes      Travel_Rarely       1102                   Sales   \n",
       "1   49        No  Travel_Frequently        279  Research & Development   \n",
       "2   37       Yes      Travel_Rarely       1373  Research & Development   \n",
       "3   33        No  Travel_Frequently       1392  Research & Development   \n",
       "4   27        No      Travel_Rarely        591  Research & Development   \n",
       "\n",
       "   DistanceFromHome  Education EducationField  EnvironmentSatisfaction  \\\n",
       "0                 1          2  Life Sciences                        2   \n",
       "1                 8          1  Life Sciences                        3   \n",
       "2                 2          2          Other                        4   \n",
       "3                 3          4  Life Sciences                        4   \n",
       "4                 2          1        Medical                        1   \n",
       "\n",
       "   Gender  ...  PerformanceRating  RelationshipSatisfaction  StockOptionLevel  \\\n",
       "0  Female  ...                  3                         1                 0   \n",
       "1    Male  ...                  4                         4                 1   \n",
       "2    Male  ...                  3                         2                 0   \n",
       "3  Female  ...                  3                         3                 0   \n",
       "4    Male  ...                  3                         4                 1   \n",
       "\n",
       "  TotalWorkingYears  TrainingTimesLastYear WorkLifeBalance  YearsAtCompany  \\\n",
       "0                 8                      0               1               6   \n",
       "1                10                      3               3              10   \n",
       "2                 7                      3               3               0   \n",
       "3                 8                      3               3               8   \n",
       "4                 6                      3               3               2   \n",
       "\n",
       "   YearsInCurrentRole  YearsSinceLastPromotion YearsWithCurrManager  \n",
       "0                   4                        0                    5  \n",
       "1                   7                        1                    7  \n",
       "2                   0                        0                    0  \n",
       "3                   7                        3                    0  \n",
       "4                   2                        2                    2  \n",
       "\n",
       "[5 rows x 31 columns]"
      ]
     },
     "execution_count": 6,
     "metadata": {},
     "output_type": "execute_result"
    }
   ],
   "source": [
    "# View the data\n",
    "Employee_Details.head()"
   ]
  },
  {
   "cell_type": "code",
   "execution_count": 7,
   "metadata": {},
   "outputs": [],
   "source": [
    "# Creating dummy variables for categorical varaibles \n",
    "cat_vars=['BusinessTravel', 'Department', 'EducationField', 'Gender', 'JobRole', 'MaritalStatus', 'OverTime']\n",
    "for var in cat_vars:\n",
    "    cat_list='var'+'_'+var\n",
    "    cat_list = pd.get_dummies(Employee_Details[var], prefix=var)\n",
    "    datanew=Employee_Details.join(cat_list)\n",
    "    Employee_Details=datanew"
   ]
  },
  {
   "cell_type": "code",
   "execution_count": 8,
   "metadata": {},
   "outputs": [],
   "source": [
    "# Removing categorical main columns \n",
    "Employee_Details = Employee_Details.drop(['BusinessTravel', 'Department', 'EducationField', 'Gender', \n",
    "                                          'JobRole', 'MaritalStatus', 'OverTime'], axis=1)"
   ]
  },
  {
   "cell_type": "code",
   "execution_count": 9,
   "metadata": {},
   "outputs": [],
   "source": [
    "# Removing one column for all categorical variables \n",
    "Employee_Details = Employee_Details.drop(['BusinessTravel_Non-Travel','Department_Human Resources','Gender_Female',\n",
    "                                          'EducationField_Human Resources','JobRole_Healthcare Representative',\n",
    "                                          'MaritalStatus_Divorced','OverTime_No'], axis=1)"
   ]
  },
  {
   "cell_type": "code",
   "execution_count": 10,
   "metadata": {},
   "outputs": [
    {
     "name": "stdout",
     "output_type": "stream",
     "text": [
      "const                                445.117396\n",
      "Age                                    2.083223\n",
      "DailyRate                              1.034936\n",
      "DistanceFromHome                       1.022804\n",
      "Education                              1.083566\n",
      "EnvironmentSatisfaction                1.030079\n",
      "HourlyRate                             1.026771\n",
      "JobInvolvement                         1.032524\n",
      "JobLevel                              14.140113\n",
      "JobSatisfaction                        1.024957\n",
      "MonthlyIncome                         18.122028\n",
      "MonthlyRate                            1.021505\n",
      "NumCompaniesWorked                     1.282276\n",
      "PercentSalaryHike                      2.564485\n",
      "PerformanceRating                      2.550475\n",
      "RelationshipSatisfaction               1.027607\n",
      "StockOptionLevel                       1.913844\n",
      "TotalWorkingYears                      5.012645\n",
      "TrainingTimesLastYear                  1.036643\n",
      "WorkLifeBalance                        1.029390\n",
      "YearsAtCompany                         4.753568\n",
      "YearsInCurrentRole                     2.795542\n",
      "YearsSinceLastPromotion                1.717768\n",
      "YearsWithCurrManager                   2.847086\n",
      "BusinessTravel_Travel_Frequently       2.368908\n",
      "BusinessTravel_Travel_Rarely           2.377619\n",
      "Department_Research & Development     44.048344\n",
      "Department_Sales                      43.955448\n",
      "EducationField_Life Sciences          24.117380\n",
      "EducationField_Marketing              10.895860\n",
      "EducationField_Medical                21.670489\n",
      "EducationField_Other                   6.044535\n",
      "EducationField_Technical Degree        8.873852\n",
      "Gender_Male                            1.032274\n",
      "JobRole_Human Resources                7.254413\n",
      "JobRole_Laboratory Technician          3.293754\n",
      "JobRole_Manager                        4.218979\n",
      "JobRole_Manufacturing Director         1.938178\n",
      "JobRole_Research Director              2.673360\n",
      "JobRole_Research Scientist             3.539608\n",
      "JobRole_Sales Executive               14.699037\n",
      "JobRole_Sales Representative           5.601271\n",
      "MaritalStatus_Married                  1.854491\n",
      "MaritalStatus_Single                   3.047437\n",
      "OverTime_Yes                           1.034752\n",
      "dtype: float64\n"
     ]
    }
   ],
   "source": [
    "# Import library for VIF\n",
    "from statsmodels.stats.outliers_influence import variance_inflation_factor\n",
    "from statsmodels.tools.tools import add_constant\n",
    "\n",
    "def get_VIF(dataFrame , target):\n",
    "    X = add_constant(dataFrame.loc[:, dataFrame.columns != target])\n",
    "    seriesObject = pd.Series([variance_inflation_factor(X.values,i) for i in range(X.shape[1])] , index=X.columns,)\n",
    "    return seriesObject\n",
    "\n",
    "target = 'Attrition'\n",
    "print(get_VIF(Employee_Details,target))"
   ]
  },
  {
   "cell_type": "code",
   "execution_count": 11,
   "metadata": {},
   "outputs": [],
   "source": [
    "# Splitting the columns to X and y \n",
    "X = Employee_Details.loc[:, Employee_Details.columns != 'Attrition']\n",
    "y = Employee_Details['Attrition'].replace({'Yes': 1, 'No': 0})"
   ]
  },
  {
   "cell_type": "code",
   "execution_count": 12,
   "metadata": {},
   "outputs": [],
   "source": [
    "# Removing the columns with VIF greater than 10 for Decision Trees\n",
    "X = X.drop(['JobLevel',\n",
    "'EducationField_Life Sciences',\n",
    "'EducationField_Marketing',\n",
    "'EducationField_Medical',\n",
    "'EducationField_Other',\n",
    "'EducationField_Technical Degree'], axis=1)"
   ]
  },
  {
   "cell_type": "markdown",
   "metadata": {},
   "source": [
    "# Logistic Regression Model"
   ]
  },
  {
   "cell_type": "code",
   "execution_count": 13,
   "metadata": {},
   "outputs": [
    {
     "name": "stdout",
     "output_type": "stream",
     "text": [
      "Optimization terminated successfully.\n",
      "         Current function value: 0.296594\n",
      "         Iterations 8\n",
      "                                 Results: Logit\n",
      "=================================================================================\n",
      "Model:                    Logit                 Pseudo R-squared:      0.329     \n",
      "Dependent Variable:       Attrition             AIC:                   947.9871  \n",
      "Date:                     2020-12-31 13:31      BIC:                   1149.1218 \n",
      "No. Observations:         1470                  Log-Likelihood:        -435.99   \n",
      "Df Model:                 37                    LL-Null:               -649.29   \n",
      "Df Residuals:             1432                  LLR p-value:           9.6493e-68\n",
      "Converged:                1.0000                Scale:                 1.0000    \n",
      "No. Iterations:           8.0000                                                 \n",
      "---------------------------------------------------------------------------------\n",
      "                                   Coef.  Std.Err.    z    P>|z|   [0.025  0.975]\n",
      "---------------------------------------------------------------------------------\n",
      "Age                               -0.0321   0.0134 -2.3915 0.0168 -0.0584 -0.0058\n",
      "DailyRate                         -0.0003   0.0002 -1.3744 0.1693 -0.0007  0.0001\n",
      "DistanceFromHome                   0.0434   0.0106  4.0756 0.0000  0.0225  0.0642\n",
      "Education                          0.0038   0.0859  0.0438 0.9651 -0.1646  0.1721\n",
      "EnvironmentSatisfaction           -0.4184   0.0811 -5.1571 0.0000 -0.5775 -0.2594\n",
      "HourlyRate                         0.0010   0.0043  0.2273 0.8202 -0.0075  0.0095\n",
      "JobInvolvement                    -0.5301   0.1208 -4.3897 0.0000 -0.7668 -0.2934\n",
      "JobSatisfaction                   -0.4224   0.0804 -5.2555 0.0000 -0.5800 -0.2649\n",
      "MonthlyIncome                      0.0000   0.0001  0.0264 0.9789 -0.0001  0.0001\n",
      "MonthlyRate                        0.0000   0.0000  0.2423 0.8085 -0.0000  0.0000\n",
      "NumCompaniesWorked                 0.1931   0.0379  5.0894 0.0000  0.1188  0.2675\n",
      "PercentSalaryHike                 -0.0248   0.0386 -0.6417 0.5211 -0.1005  0.0509\n",
      "PerformanceRating                  0.1133   0.3823  0.2963 0.7670 -0.6361  0.8627\n",
      "RelationshipSatisfaction          -0.2560   0.0815 -3.1400 0.0017 -0.4158 -0.0962\n",
      "StockOptionLevel                  -0.2196   0.1532 -1.4339 0.1516 -0.5198  0.0806\n",
      "TotalWorkingYears                 -0.0623   0.0284 -2.1933 0.0283 -0.1180 -0.0066\n",
      "TrainingTimesLastYear             -0.1870   0.0724 -2.5829 0.0098 -0.3290 -0.0451\n",
      "WorkLifeBalance                   -0.3582   0.1221 -2.9327 0.0034 -0.5976 -0.1188\n",
      "YearsAtCompany                     0.0823   0.0384  2.1450 0.0319  0.0071  0.1574\n",
      "YearsInCurrentRole                -0.1372   0.0449 -3.0563 0.0022 -0.2251 -0.0492\n",
      "YearsSinceLastPromotion            0.1763   0.0422  4.1801 0.0000  0.0936  0.2590\n",
      "YearsWithCurrManager              -0.1298   0.0464 -2.7969 0.0052 -0.2208 -0.0388\n",
      "BusinessTravel_Travel_Frequently   1.8679   0.4053  4.6089 0.0000  1.0735  2.6622\n",
      "BusinessTravel_Travel_Rarely       1.0049   0.3733  2.6918 0.0071  0.2732  1.7366\n",
      "Department_Research & Development  1.5802   1.2644  1.2498 0.2114 -0.8979  4.0583\n",
      "Department_Sales                   1.7650   1.5882  1.1113 0.2664 -1.3478  4.8777\n",
      "Gender_Male                        0.3995   0.1824  2.1902 0.0285  0.0420  0.7569\n",
      "JobRole_Human Resources            3.1960   1.2753  2.5061 0.0122  0.6965  5.6955\n",
      "JobRole_Laboratory Technician      1.4977   0.4650  3.2211 0.0013  0.5864  2.4090\n",
      "JobRole_Manager                    0.1942   0.8903  0.2181 0.8273 -1.5508  1.9393\n",
      "JobRole_Manufacturing Director     0.2116   0.5294  0.3997 0.6894 -0.8259  1.2491\n",
      "JobRole_Research Director         -1.0910   1.0009 -1.0900 0.2757 -3.0526  0.8707\n",
      "JobRole_Research Scientist         0.6125   0.4710  1.3002 0.1935 -0.3108  1.5357\n",
      "JobRole_Sales Executive            0.9918   1.1145  0.8899 0.3735 -1.1926  3.1762\n",
      "JobRole_Sales Representative       2.0058   1.1591  1.7304 0.0836 -0.2661  4.2777\n",
      "MaritalStatus_Married              0.3049   0.2641  1.1546 0.2483 -0.2127  0.8225\n",
      "MaritalStatus_Single               1.0901   0.3375  3.2297 0.0012  0.4286  1.7517\n",
      "OverTime_Yes                       1.9542   0.1917 10.1929 0.0000  1.5785  2.3300\n",
      "=================================================================================\n",
      "\n"
     ]
    }
   ],
   "source": [
    "# Running the logistic model for selecting the final input variables\n",
    "import statsmodels.api as sm\n",
    "logit_model=sm.Logit(y,X.astype(float))\n",
    "result=logit_model.fit()\n",
    "print(result.summary2())"
   ]
  },
  {
   "cell_type": "code",
   "execution_count": 14,
   "metadata": {},
   "outputs": [
    {
     "name": "stdout",
     "output_type": "stream",
     "text": [
      "Optimization terminated successfully.\n",
      "         Current function value: 0.296771\n",
      "         Iterations 8\n",
      "                                 Results: Logit\n",
      "=================================================================================\n",
      "Model:                    Logit                 Pseudo R-squared:      0.328     \n",
      "Dependent Variable:       Attrition             AIC:                   944.5065  \n",
      "Date:                     2020-12-31 13:31      BIC:                   1135.0551 \n",
      "No. Observations:         1470                  Log-Likelihood:        -436.25   \n",
      "Df Model:                 35                    LL-Null:               -649.29   \n",
      "Df Residuals:             1434                  LLR p-value:           1.0010e-68\n",
      "Converged:                1.0000                Scale:                 1.0000    \n",
      "No. Iterations:           8.0000                                                 \n",
      "---------------------------------------------------------------------------------\n",
      "                                   Coef.  Std.Err.    z    P>|z|   [0.025  0.975]\n",
      "---------------------------------------------------------------------------------\n",
      "Age                               -0.0326   0.0134 -2.4336 0.0149 -0.0588 -0.0063\n",
      "DailyRate                         -0.0003   0.0002 -1.4022 0.1609 -0.0007  0.0001\n",
      "DistanceFromHome                   0.0431   0.0106  4.0482 0.0001  0.0222  0.0639\n",
      "Education                          0.0024   0.0858  0.0281 0.9776 -0.1658  0.1706\n",
      "EnvironmentSatisfaction           -0.4177   0.0811 -5.1507 0.0000 -0.5766 -0.2587\n",
      "HourlyRate                         0.0010   0.0043  0.2336 0.8153 -0.0075  0.0095\n",
      "JobInvolvement                    -0.5287   0.1206 -4.3851 0.0000 -0.7650 -0.2924\n",
      "JobSatisfaction                   -0.4201   0.0802 -5.2384 0.0000 -0.5772 -0.2629\n",
      "MonthlyIncome                      0.0000   0.0001  0.0342 0.9727 -0.0001  0.0001\n",
      "MonthlyRate                        0.0000   0.0000  0.2360 0.8135 -0.0000  0.0000\n",
      "NumCompaniesWorked                 0.1933   0.0379  5.1000 0.0000  0.1190  0.2676\n",
      "RelationshipSatisfaction          -0.2544   0.0814 -3.1258 0.0018 -0.4140 -0.0949\n",
      "StockOptionLevel                  -0.2222   0.1534 -1.4484 0.1475 -0.5228  0.0785\n",
      "TotalWorkingYears                 -0.0623   0.0284 -2.1929 0.0283 -0.1179 -0.0066\n",
      "TrainingTimesLastYear             -0.1870   0.0724 -2.5816 0.0098 -0.3290 -0.0450\n",
      "WorkLifeBalance                   -0.3558   0.1221 -2.9150 0.0036 -0.5951 -0.1166\n",
      "YearsAtCompany                     0.0828   0.0384  2.1556 0.0311  0.0075  0.1581\n",
      "YearsInCurrentRole                -0.1368   0.0449 -3.0493 0.0023 -0.2247 -0.0489\n",
      "YearsSinceLastPromotion            0.1769   0.0422  4.1946 0.0000  0.0942  0.2595\n",
      "YearsWithCurrManager              -0.1303   0.0464 -2.8064 0.0050 -0.2213 -0.0393\n",
      "BusinessTravel_Travel_Frequently   1.8909   0.4046  4.6733 0.0000  1.0979  2.6840\n",
      "BusinessTravel_Travel_Rarely       1.0253   0.3731  2.7483 0.0060  0.2941  1.7565\n",
      "Department_Research & Development  1.5432   0.9918  1.5560 0.1197 -0.4007  3.4871\n",
      "Department_Sales                   1.6815   1.3992  1.2018 0.2295 -1.0608  4.4238\n",
      "Gender_Male                        0.3971   0.1823  2.1782 0.0294  0.0398  0.7543\n",
      "JobRole_Human Resources            3.1730   0.9813  3.2334 0.0012  1.2497  5.0963\n",
      "JobRole_Laboratory Technician      1.5043   0.4638  3.2438 0.0012  0.5954  2.4133\n",
      "JobRole_Manager                    0.1991   0.8851  0.2249 0.8220 -1.5356  1.9338\n",
      "JobRole_Manufacturing Director     0.2080   0.5280  0.3939 0.6937 -0.8268  1.2428\n",
      "JobRole_Research Director         -1.0737   0.9986 -1.0751 0.2823 -3.0309  0.8836\n",
      "JobRole_Research Scientist         0.6143   0.4703  1.3061 0.1915 -0.3075  1.5360\n",
      "JobRole_Sales Executive            1.0470   1.1118  0.9418 0.3463 -1.1320  3.2260\n",
      "JobRole_Sales Representative       2.0346   1.1589  1.7557 0.0791 -0.2367  4.3060\n",
      "MaritalStatus_Married              0.3031   0.2643  1.1468 0.2515 -0.2149  0.8212\n",
      "MaritalStatus_Single               1.0874   0.3379  3.2183 0.0013  0.4252  1.7497\n",
      "OverTime_Yes                       1.9535   0.1914 10.2083 0.0000  1.5785  2.3286\n",
      "=================================================================================\n",
      "\n"
     ]
    }
   ],
   "source": [
    "# Removing the variables with high p-values\n",
    "X = X.drop(['PercentSalaryHike', 'PerformanceRating'], axis=1)\n",
    "\n",
    "# Running the model again for significant variables\n",
    "logit_model=sm.Logit(y,X.astype(float))\n",
    "result=logit_model.fit()\n",
    "print(result.summary2())"
   ]
  },
  {
   "cell_type": "code",
   "execution_count": 15,
   "metadata": {},
   "outputs": [
    {
     "data": {
      "text/plain": [
       "LogisticRegression(max_iter=6000)"
      ]
     },
     "execution_count": 15,
     "metadata": {},
     "output_type": "execute_result"
    }
   ],
   "source": [
    "# Training the model using Logistic Regression\n",
    "from sklearn.linear_model import LogisticRegression\n",
    "from sklearn import metrics\n",
    "\n",
    "X_train, X_test, y_train, y_test = train_test_split(X, y, test_size=0.2, random_state=0)\n",
    "\n",
    "logreg = LogisticRegression(max_iter=6000)\n",
    "logreg.fit(X_train, y_train)"
   ]
  },
  {
   "cell_type": "code",
   "execution_count": 16,
   "metadata": {},
   "outputs": [
    {
     "name": "stdout",
     "output_type": "stream",
     "text": [
      "Accuracy (Logistic Regression): 0.8946\n"
     ]
    }
   ],
   "source": [
    "# Predicting the 'response variable' y using the Logistic Regression\n",
    "y_pred = logreg.predict(X_test)\n",
    "print('Accuracy (Logistic Regression): {:.4f}'.format(logreg.score(X_test, y_test)))"
   ]
  },
  {
   "cell_type": "code",
   "execution_count": 17,
   "metadata": {},
   "outputs": [
    {
     "name": "stdout",
     "output_type": "stream",
     "text": [
      "[[241   4]\n",
      " [ 27  22]]\n"
     ]
    }
   ],
   "source": [
    "# Displaing the Confusion Matrix - Logistic Regression\n",
    "from sklearn.metrics import confusion_matrix\n",
    "confusion_matrix = confusion_matrix(y_test, y_pred)\n",
    "print(confusion_matrix)"
   ]
  },
  {
   "cell_type": "code",
   "execution_count": 18,
   "metadata": {},
   "outputs": [
    {
     "name": "stdout",
     "output_type": "stream",
     "text": [
      "              precision    recall  f1-score   support\n",
      "\n",
      "           0       0.90      0.98      0.94       245\n",
      "           1       0.85      0.45      0.59        49\n",
      "\n",
      "    accuracy                           0.89       294\n",
      "   macro avg       0.87      0.72      0.76       294\n",
      "weighted avg       0.89      0.89      0.88       294\n",
      "\n"
     ]
    }
   ],
   "source": [
    "# Displaying the Logistic Regression model statistics\n",
    "from sklearn.metrics import classification_report\n",
    "print(classification_report(y_test, y_pred))"
   ]
  },
  {
   "cell_type": "code",
   "execution_count": 19,
   "metadata": {
    "scrolled": true
   },
   "outputs": [
    {
     "data": {
      "image/png": "[encoded data removed]",
      "text/plain": [
       "<Figure size 432x288 with 1 Axes>"
      ]
     },
     "metadata": {},
     "output_type": "display_data"
    }
   ],
   "source": [
    "# Displaying the ROC-AUC - Logistic Regression\n",
    "from sklearn.metrics import roc_auc_score\n",
    "from sklearn.metrics import roc_curve\n",
    "logit_roc_auc = roc_auc_score(y_test, logreg.predict(X_test))\n",
    "fpr, tpr, thresholds = roc_curve(y_test, logreg.predict_proba(X_test)[:,1])\n",
    "plt.figure()\n",
    "plt.plot(fpr, tpr, label='Logistic Regression (area = %0.3f)' % logit_roc_auc)\n",
    "plt.plot([0, 1], [0, 1],'r--')\n",
    "plt.xlim([-0.02, 1.0])\n",
    "plt.ylim([0.0, 1.05])\n",
    "plt.xlabel('False Positive Rate')\n",
    "plt.ylabel('True Positive Rate')\n",
    "plt.title('Receiver Operating Characteristic')\n",
    "plt.legend(loc=\"lower right\")\n",
    "plt.savefig('Logistic_ROC')\n",
    "plt.show()"
   ]
  },
  {
   "cell_type": "code",
   "execution_count": 20,
   "metadata": {},
   "outputs": [
    {
     "name": "stdout",
     "output_type": "stream",
     "text": [
      "Accuracy: 87.76% (2.06%)\n"
     ]
    }
   ],
   "source": [
    "# Performing the kfold validation for robustness\n",
    "from sklearn.model_selection import KFold\n",
    "from sklearn.model_selection import cross_val_score\n",
    "kfold = KFold(n_splits=10, random_state=7, shuffle=True)\n",
    "results = cross_val_score(logreg, X, y, cv=kfold)\n",
    "print(\"Accuracy: %.2f%% (%.2f%%)\" % (results.mean()*100, results.std()*100))"
   ]
  },
  {
   "cell_type": "code",
   "execution_count": 22,
   "metadata": {},
   "outputs": [
    {
     "data": {
      "text/plain": [
       "LogisticRegression(max_iter=10000)"
      ]
     },
     "execution_count": 22,
     "metadata": {},
     "output_type": "execute_result"
    }
   ],
   "source": [
    "# Validating the impact of the features on the response variable\n",
    "model = sklearn.linear_model.LogisticRegression(max_iter=10000)\n",
    "model.fit(X_train, y_train)"
   ]
  },
  {
   "cell_type": "markdown",
   "metadata": {},
   "source": [
    "# Decision Tree Model"
   ]
  },
  {
   "cell_type": "code",
   "execution_count": 23,
   "metadata": {},
   "outputs": [],
   "source": [
    "# Splitting the columns to X and y again for Decision Trees\n",
    "X = Employee_Details.loc[:, Employee_Details.columns != 'Attrition']\n",
    "y = Employee_Details['Attrition'].replace({'Yes': 1, 'No': 0})"
   ]
  },
  {
   "cell_type": "code",
   "execution_count": 24,
   "metadata": {},
   "outputs": [],
   "source": [
    "# Removing the columns with VIF greater than 10 for Decision Trees\n",
    "X = X.drop(['JobLevel',\n",
    "'MonthlyIncome',\n",
    "'Department_Research & Development',\n",
    "'Department_Sales',\n",
    "'EducationField_Life Sciences',\n",
    "'EducationField_Marketing',\n",
    "'EducationField_Medical',\n",
    "'EducationField_Other',\n",
    "'EducationField_Technical Degree',\n",
    "'JobRole_Human Resources',\n",
    "'JobRole_Laboratory Technician',\n",
    "'JobRole_Manager',\n",
    "'JobRole_Manufacturing Director',\n",
    "'JobRole_Research Director',\n",
    "'JobRole_Research Scientist',\n",
    "'JobRole_Sales Executive',\n",
    "'JobRole_Sales Representative'], axis=1)"
   ]
  },
  {
   "cell_type": "code",
   "execution_count": 25,
   "metadata": {},
   "outputs": [
    {
     "data": {
      "image/png": "[encoded data removed]",
      "text/plain": [
       "<IPython.core.display.Image object>"
      ]
     },
     "execution_count": 25,
     "metadata": {
      "image/png": {
       "height": 10000,
       "width": 2000
      }
     },
     "output_type": "execute_result"
    }
   ],
   "source": [
    "# Decision Tree\n",
    "from sklearn.linear_model import LogisticRegression\n",
    "from sklearn import metrics\n",
    "from imblearn.over_sampling import SMOTE\n",
    "\n",
    "\n",
    "X_train, X_test, y_train, y_test = train_test_split(X, y, test_size=0.2, random_state=0)\n",
    "\n",
    "decision_tree = tree.DecisionTreeClassifier(max_depth = 4,random_state=0)\n",
    "decision_tree.fit(X_train, y_train)\n",
    "\n",
    "# Predicting results for test dataset\n",
    "y_pred2 = decision_tree.predict(X_test)\n",
    "dt_feature_names = list(X_test.columns)\n",
    "\n",
    "\n",
    "# Export our trained model as a .dot file\n",
    "with open(\"tree1.dot\", 'w') as f:\n",
    "     f = tree.export_graphviz(decision_tree,\n",
    "                              out_file=f,\n",
    "                              max_depth = 4,\n",
    "                              impurity = False,\n",
    "                              feature_names = dt_feature_names,\n",
    "                              class_names = ['No', 'Yes'],\n",
    "                              rounded = True,\n",
    "                              filled= False)\n",
    "        \n",
    "#Convert .dot to .png to allow display in web notebook\n",
    "check_call(['dot','-Tpng','tree1.dot','-o','tree1.png'])\n",
    "\n",
    "# Annotating chart with PIL\n",
    "img = Image.open(\"tree1.png\")\n",
    "draw = ImageDraw.Draw(img)\n",
    "img.save('sample-out.png')\n",
    "PImage(\"sample-out.png\", height=10000, width=2000)\n",
    "\n",
    "#tree.export_graphviz(clf, out_file=dot_data, feature_names=vec.get_feature_names()) \n"
   ]
  },
  {
   "cell_type": "code",
   "execution_count": 26,
   "metadata": {},
   "outputs": [
    {
     "name": "stdout",
     "output_type": "stream",
     "text": [
      "0.8333333333333334\n"
     ]
    }
   ],
   "source": [
    "score = decision_tree.score(X_test, y_test)\n",
    "print(score)"
   ]
  },
  {
   "cell_type": "code",
   "execution_count": 27,
   "metadata": {},
   "outputs": [
    {
     "data": {
      "text/plain": [
       "[0.8333333333333334,\n",
       " 0.8299319727891157,\n",
       " 0.8299319727891157,\n",
       " 0.8333333333333334,\n",
       " 0.8163265306122449,\n",
       " 0.8163265306122449,\n",
       " 0.8027210884353742,\n",
       " 0.8163265306122449,\n",
       " 0.8095238095238095]"
      ]
     },
     "execution_count": 27,
     "metadata": {},
     "output_type": "execute_result"
    }
   ],
   "source": [
    "#selecting max depth\n",
    "\n",
    "# List of values to try for max_depth:\n",
    "max_depth_range = list(range(1, 10))\n",
    "# List to store the average RMSE for each value of max_depth:\n",
    "accuracy = []\n",
    "for depth in max_depth_range:\n",
    "    \n",
    "    clf = tree.DecisionTreeClassifier(max_depth = depth, \n",
    "                             random_state = 0)\n",
    "    clf.fit(X_train, y_train)\n",
    "    score = clf.score(X_test, y_test)\n",
    "    accuracy.append(score)\n",
    "\n",
    "    \n",
    "    \n",
    "accuracy"
   ]
  },
  {
   "cell_type": "code",
   "execution_count": 28,
   "metadata": {},
   "outputs": [
    {
     "name": "stdout",
     "output_type": "stream",
     "text": [
      "[[243   2]\n",
      " [ 47   2]]\n"
     ]
    }
   ],
   "source": [
    "from sklearn.metrics import confusion_matrix\n",
    "confusion_matrix = confusion_matrix(y_test, y_pred2)\n",
    "print(confusion_matrix)"
   ]
  },
  {
   "cell_type": "code",
   "execution_count": 29,
   "metadata": {},
   "outputs": [
    {
     "name": "stdout",
     "output_type": "stream",
     "text": [
      "              precision    recall  f1-score   support\n",
      "\n",
      "           0       0.84      0.99      0.91       245\n",
      "           1       0.50      0.04      0.08        49\n",
      "\n",
      "    accuracy                           0.83       294\n",
      "   macro avg       0.67      0.52      0.49       294\n",
      "weighted avg       0.78      0.83      0.77       294\n",
      "\n"
     ]
    }
   ],
   "source": [
    "# Displaying the Logistic Regression model statistics\n",
    "from sklearn.metrics import classification_report\n",
    "print(classification_report(y_test, y_pred2))"
   ]
  },
  {
   "cell_type": "code",
   "execution_count": 30,
   "metadata": {},
   "outputs": [
    {
     "name": "stdout",
     "output_type": "stream",
     "text": [
      "roc_auc_score for DecisionTree:  0.5163265306122449\n"
     ]
    }
   ],
   "source": [
    "# Displaying the ROC-AUC - Decision Tree\n",
    "false_positive_rate1, true_positive_rate1, threshold1 = roc_curve(y_test, y_pred2)\n",
    "print('roc_auc_score for DecisionTree: ', roc_auc_score(y_test, y_pred2))"
   ]
  },
  {
   "cell_type": "code",
   "execution_count": 31,
   "metadata": {},
   "outputs": [
    {
     "data": {
      "image/png": "[encoded data removed]",
      "text/plain": [
       "<Figure size 720x720 with 1 Axes>"
      ]
     },
     "metadata": {},
     "output_type": "display_data"
    }
   ],
   "source": [
    "# Ploting ROC curves\n",
    "plt.subplots(1, figsize=(10,10))\n",
    "plt.title('Receiver Operating Characteristic - DecisionTree')\n",
    "plt.plot(false_positive_rate1, true_positive_rate1)\n",
    "plt.plot([0, 1], ls=\"--\")\n",
    "plt.plot([0, 0], [1, 0] , c=\".7\"), plt.plot([1, 1] , c=\".7\")\n",
    "plt.ylabel('True Positive Rate')\n",
    "plt.xlabel('False Positive Rate')\n",
    "plt.show()"
   ]
  },
  {
   "cell_type": "code",
   "execution_count": 32,
   "metadata": {
    "scrolled": true
   },
   "outputs": [
    {
     "data": {
      "text/html": [
       "<div>\n",
       "<style scoped>\n",
       "    .dataframe tbody tr th:only-of-type {\n",
       "        vertical-align: middle;\n",
       "    }\n",
       "\n",
       "    .dataframe tbody tr th {\n",
       "        vertical-align: top;\n",
       "    }\n",
       "\n",
       "    .dataframe thead th {\n",
       "        text-align: right;\n",
       "    }\n",
       "</style>\n",
       "<table border=\"1\" class=\"dataframe\">\n",
       "  <thead>\n",
       "    <tr style=\"text-align: right;\">\n",
       "      <th></th>\n",
       "      <th>feature</th>\n",
       "      <th>importance</th>\n",
       "    </tr>\n",
       "  </thead>\n",
       "  <tbody>\n",
       "    <tr>\n",
       "      <th>14</th>\n",
       "      <td>TotalWorkingYears</td>\n",
       "      <td>0.371</td>\n",
       "    </tr>\n",
       "    <tr>\n",
       "      <th>26</th>\n",
       "      <td>OverTime_Yes</td>\n",
       "      <td>0.161</td>\n",
       "    </tr>\n",
       "    <tr>\n",
       "      <th>13</th>\n",
       "      <td>StockOptionLevel</td>\n",
       "      <td>0.120</td>\n",
       "    </tr>\n",
       "    <tr>\n",
       "      <th>25</th>\n",
       "      <td>MaritalStatus_Single</td>\n",
       "      <td>0.073</td>\n",
       "    </tr>\n",
       "    <tr>\n",
       "      <th>21</th>\n",
       "      <td>BusinessTravel_Travel_Frequently</td>\n",
       "      <td>0.066</td>\n",
       "    </tr>\n",
       "    <tr>\n",
       "      <th>16</th>\n",
       "      <td>WorkLifeBalance</td>\n",
       "      <td>0.058</td>\n",
       "    </tr>\n",
       "    <tr>\n",
       "      <th>2</th>\n",
       "      <td>DistanceFromHome</td>\n",
       "      <td>0.050</td>\n",
       "    </tr>\n",
       "    <tr>\n",
       "      <th>10</th>\n",
       "      <td>PercentSalaryHike</td>\n",
       "      <td>0.038</td>\n",
       "    </tr>\n",
       "    <tr>\n",
       "      <th>1</th>\n",
       "      <td>DailyRate</td>\n",
       "      <td>0.033</td>\n",
       "    </tr>\n",
       "    <tr>\n",
       "      <th>5</th>\n",
       "      <td>HourlyRate</td>\n",
       "      <td>0.031</td>\n",
       "    </tr>\n",
       "    <tr>\n",
       "      <th>3</th>\n",
       "      <td>Education</td>\n",
       "      <td>0.000</td>\n",
       "    </tr>\n",
       "    <tr>\n",
       "      <th>18</th>\n",
       "      <td>YearsInCurrentRole</td>\n",
       "      <td>0.000</td>\n",
       "    </tr>\n",
       "    <tr>\n",
       "      <th>24</th>\n",
       "      <td>MaritalStatus_Married</td>\n",
       "      <td>0.000</td>\n",
       "    </tr>\n",
       "    <tr>\n",
       "      <th>23</th>\n",
       "      <td>Gender_Male</td>\n",
       "      <td>0.000</td>\n",
       "    </tr>\n",
       "    <tr>\n",
       "      <th>22</th>\n",
       "      <td>BusinessTravel_Travel_Rarely</td>\n",
       "      <td>0.000</td>\n",
       "    </tr>\n",
       "    <tr>\n",
       "      <th>20</th>\n",
       "      <td>YearsWithCurrManager</td>\n",
       "      <td>0.000</td>\n",
       "    </tr>\n",
       "    <tr>\n",
       "      <th>19</th>\n",
       "      <td>YearsSinceLastPromotion</td>\n",
       "      <td>0.000</td>\n",
       "    </tr>\n",
       "    <tr>\n",
       "      <th>15</th>\n",
       "      <td>TrainingTimesLastYear</td>\n",
       "      <td>0.000</td>\n",
       "    </tr>\n",
       "    <tr>\n",
       "      <th>17</th>\n",
       "      <td>YearsAtCompany</td>\n",
       "      <td>0.000</td>\n",
       "    </tr>\n",
       "    <tr>\n",
       "      <th>4</th>\n",
       "      <td>EnvironmentSatisfaction</td>\n",
       "      <td>0.000</td>\n",
       "    </tr>\n",
       "    <tr>\n",
       "      <th>12</th>\n",
       "      <td>RelationshipSatisfaction</td>\n",
       "      <td>0.000</td>\n",
       "    </tr>\n",
       "    <tr>\n",
       "      <th>11</th>\n",
       "      <td>PerformanceRating</td>\n",
       "      <td>0.000</td>\n",
       "    </tr>\n",
       "    <tr>\n",
       "      <th>9</th>\n",
       "      <td>NumCompaniesWorked</td>\n",
       "      <td>0.000</td>\n",
       "    </tr>\n",
       "    <tr>\n",
       "      <th>8</th>\n",
       "      <td>MonthlyRate</td>\n",
       "      <td>0.000</td>\n",
       "    </tr>\n",
       "    <tr>\n",
       "      <th>7</th>\n",
       "      <td>JobSatisfaction</td>\n",
       "      <td>0.000</td>\n",
       "    </tr>\n",
       "    <tr>\n",
       "      <th>6</th>\n",
       "      <td>JobInvolvement</td>\n",
       "      <td>0.000</td>\n",
       "    </tr>\n",
       "    <tr>\n",
       "      <th>0</th>\n",
       "      <td>Age</td>\n",
       "      <td>0.000</td>\n",
       "    </tr>\n",
       "  </tbody>\n",
       "</table>\n",
       "</div>"
      ],
      "text/plain": [
       "                             feature  importance\n",
       "14                 TotalWorkingYears       0.371\n",
       "26                      OverTime_Yes       0.161\n",
       "13                  StockOptionLevel       0.120\n",
       "25              MaritalStatus_Single       0.073\n",
       "21  BusinessTravel_Travel_Frequently       0.066\n",
       "16                   WorkLifeBalance       0.058\n",
       "2                   DistanceFromHome       0.050\n",
       "10                 PercentSalaryHike       0.038\n",
       "1                          DailyRate       0.033\n",
       "5                         HourlyRate       0.031\n",
       "3                          Education       0.000\n",
       "18                YearsInCurrentRole       0.000\n",
       "24             MaritalStatus_Married       0.000\n",
       "23                       Gender_Male       0.000\n",
       "22      BusinessTravel_Travel_Rarely       0.000\n",
       "20              YearsWithCurrManager       0.000\n",
       "19           YearsSinceLastPromotion       0.000\n",
       "15             TrainingTimesLastYear       0.000\n",
       "17                    YearsAtCompany       0.000\n",
       "4            EnvironmentSatisfaction       0.000\n",
       "12          RelationshipSatisfaction       0.000\n",
       "11                 PerformanceRating       0.000\n",
       "9                 NumCompaniesWorked       0.000\n",
       "8                        MonthlyRate       0.000\n",
       "7                    JobSatisfaction       0.000\n",
       "6                     JobInvolvement       0.000\n",
       "0                                Age       0.000"
      ]
     },
     "execution_count": 32,
     "metadata": {},
     "output_type": "execute_result"
    }
   ],
   "source": [
    "#Feature Importance\n",
    "importances = pd.DataFrame({'feature':X_train.columns,'importance':np.round(decision_tree.feature_importances_,3)})\n",
    "importances = importances.sort_values('importance',ascending=False)\n",
    "importances"
   ]
  },
  {
   "cell_type": "code",
   "execution_count": 33,
   "metadata": {
    "scrolled": false
   },
   "outputs": [
    {
     "data": {
      "text/plain": [
       "31"
      ]
     },
     "execution_count": 33,
     "metadata": {},
     "output_type": "execute_result"
    }
   ],
   "source": [
    "decision_tree.tree_.node_count"
   ]
  },
  {
   "cell_type": "markdown",
   "metadata": {},
   "source": [
    "# Random Forest Model"
   ]
  },
  {
   "cell_type": "code",
   "execution_count": 52,
   "metadata": {},
   "outputs": [],
   "source": [
    "# Import the dataset\n",
    "data = pd.read_csv('Data.csv', header=0, low_memory=\"FALSE\")"
   ]
  },
  {
   "cell_type": "code",
   "execution_count": 53,
   "metadata": {
    "scrolled": true
   },
   "outputs": [
    {
     "data": {
      "text/html": [
       "<div>\n",
       "<style scoped>\n",
       "    .dataframe tbody tr th:only-of-type {\n",
       "        vertical-align: middle;\n",
       "    }\n",
       "\n",
       "    .dataframe tbody tr th {\n",
       "        vertical-align: top;\n",
       "    }\n",
       "\n",
       "    .dataframe thead th {\n",
       "        text-align: right;\n",
       "    }\n",
       "</style>\n",
       "<table border=\"1\" class=\"dataframe\">\n",
       "  <thead>\n",
       "    <tr style=\"text-align: right;\">\n",
       "      <th></th>\n",
       "      <th>Age</th>\n",
       "      <th>Attrition</th>\n",
       "      <th>BusinessTravel</th>\n",
       "      <th>DailyRate</th>\n",
       "      <th>Department</th>\n",
       "      <th>DistanceFromHome</th>\n",
       "      <th>Education</th>\n",
       "      <th>EducationField</th>\n",
       "      <th>EmployeeCount</th>\n",
       "      <th>EmployeeNumber</th>\n",
       "      <th>...</th>\n",
       "      <th>RelationshipSatisfaction</th>\n",
       "      <th>StandardHours</th>\n",
       "      <th>StockOptionLevel</th>\n",
       "      <th>TotalWorkingYears</th>\n",
       "      <th>TrainingTimesLastYear</th>\n",
       "      <th>WorkLifeBalance</th>\n",
       "      <th>YearsAtCompany</th>\n",
       "      <th>YearsInCurrentRole</th>\n",
       "      <th>YearsSinceLastPromotion</th>\n",
       "      <th>YearsWithCurrManager</th>\n",
       "    </tr>\n",
       "  </thead>\n",
       "  <tbody>\n",
       "    <tr>\n",
       "      <th>0</th>\n",
       "      <td>41</td>\n",
       "      <td>Yes</td>\n",
       "      <td>Travel_Rarely</td>\n",
       "      <td>1102</td>\n",
       "      <td>Sales</td>\n",
       "      <td>1</td>\n",
       "      <td>2</td>\n",
       "      <td>Life Sciences</td>\n",
       "      <td>1</td>\n",
       "      <td>1</td>\n",
       "      <td>...</td>\n",
       "      <td>1</td>\n",
       "      <td>80</td>\n",
       "      <td>0</td>\n",
       "      <td>8</td>\n",
       "      <td>0</td>\n",
       "      <td>1</td>\n",
       "      <td>6</td>\n",
       "      <td>4</td>\n",
       "      <td>0</td>\n",
       "      <td>5</td>\n",
       "    </tr>\n",
       "    <tr>\n",
       "      <th>1</th>\n",
       "      <td>49</td>\n",
       "      <td>No</td>\n",
       "      <td>Travel_Frequently</td>\n",
       "      <td>279</td>\n",
       "      <td>Research &amp; Development</td>\n",
       "      <td>8</td>\n",
       "      <td>1</td>\n",
       "      <td>Life Sciences</td>\n",
       "      <td>1</td>\n",
       "      <td>2</td>\n",
       "      <td>...</td>\n",
       "      <td>4</td>\n",
       "      <td>80</td>\n",
       "      <td>1</td>\n",
       "      <td>10</td>\n",
       "      <td>3</td>\n",
       "      <td>3</td>\n",
       "      <td>10</td>\n",
       "      <td>7</td>\n",
       "      <td>1</td>\n",
       "      <td>7</td>\n",
       "    </tr>\n",
       "    <tr>\n",
       "      <th>2</th>\n",
       "      <td>37</td>\n",
       "      <td>Yes</td>\n",
       "      <td>Travel_Rarely</td>\n",
       "      <td>1373</td>\n",
       "      <td>Research &amp; Development</td>\n",
       "      <td>2</td>\n",
       "      <td>2</td>\n",
       "      <td>Other</td>\n",
       "      <td>1</td>\n",
       "      <td>4</td>\n",
       "      <td>...</td>\n",
       "      <td>2</td>\n",
       "      <td>80</td>\n",
       "      <td>0</td>\n",
       "      <td>7</td>\n",
       "      <td>3</td>\n",
       "      <td>3</td>\n",
       "      <td>0</td>\n",
       "      <td>0</td>\n",
       "      <td>0</td>\n",
       "      <td>0</td>\n",
       "    </tr>\n",
       "    <tr>\n",
       "      <th>3</th>\n",
       "      <td>33</td>\n",
       "      <td>No</td>\n",
       "      <td>Travel_Frequently</td>\n",
       "      <td>1392</td>\n",
       "      <td>Research &amp; Development</td>\n",
       "      <td>3</td>\n",
       "      <td>4</td>\n",
       "      <td>Life Sciences</td>\n",
       "      <td>1</td>\n",
       "      <td>5</td>\n",
       "      <td>...</td>\n",
       "      <td>3</td>\n",
       "      <td>80</td>\n",
       "      <td>0</td>\n",
       "      <td>8</td>\n",
       "      <td>3</td>\n",
       "      <td>3</td>\n",
       "      <td>8</td>\n",
       "      <td>7</td>\n",
       "      <td>3</td>\n",
       "      <td>0</td>\n",
       "    </tr>\n",
       "    <tr>\n",
       "      <th>4</th>\n",
       "      <td>27</td>\n",
       "      <td>No</td>\n",
       "      <td>Travel_Rarely</td>\n",
       "      <td>591</td>\n",
       "      <td>Research &amp; Development</td>\n",
       "      <td>2</td>\n",
       "      <td>1</td>\n",
       "      <td>Medical</td>\n",
       "      <td>1</td>\n",
       "      <td>7</td>\n",
       "      <td>...</td>\n",
       "      <td>4</td>\n",
       "      <td>80</td>\n",
       "      <td>1</td>\n",
       "      <td>6</td>\n",
       "      <td>3</td>\n",
       "      <td>3</td>\n",
       "      <td>2</td>\n",
       "      <td>2</td>\n",
       "      <td>2</td>\n",
       "      <td>2</td>\n",
       "    </tr>\n",
       "  </tbody>\n",
       "</table>\n",
       "<p>5 rows × 35 columns</p>\n",
       "</div>"
      ],
      "text/plain": [
       "   Age Attrition     BusinessTravel  DailyRate              Department  \\\n",
       "0   41       Yes      Travel_Rarely       1102                   Sales   \n",
       "1   49        No  Travel_Frequently        279  Research & Development   \n",
       "2   37       Yes      Travel_Rarely       1373  Research & Development   \n",
       "3   33        No  Travel_Frequently       1392  Research & Development   \n",
       "4   27        No      Travel_Rarely        591  Research & Development   \n",
       "\n",
       "   DistanceFromHome  Education EducationField  EmployeeCount  EmployeeNumber  \\\n",
       "0                 1          2  Life Sciences              1               1   \n",
       "1                 8          1  Life Sciences              1               2   \n",
       "2                 2          2          Other              1               4   \n",
       "3                 3          4  Life Sciences              1               5   \n",
       "4                 2          1        Medical              1               7   \n",
       "\n",
       "   ...  RelationshipSatisfaction StandardHours  StockOptionLevel  \\\n",
       "0  ...                         1            80                 0   \n",
       "1  ...                         4            80                 1   \n",
       "2  ...                         2            80                 0   \n",
       "3  ...                         3            80                 0   \n",
       "4  ...                         4            80                 1   \n",
       "\n",
       "   TotalWorkingYears  TrainingTimesLastYear WorkLifeBalance  YearsAtCompany  \\\n",
       "0                  8                      0               1               6   \n",
       "1                 10                      3               3              10   \n",
       "2                  7                      3               3               0   \n",
       "3                  8                      3               3               8   \n",
       "4                  6                      3               3               2   \n",
       "\n",
       "  YearsInCurrentRole  YearsSinceLastPromotion  YearsWithCurrManager  \n",
       "0                  4                        0                     5  \n",
       "1                  7                        1                     7  \n",
       "2                  0                        0                     0  \n",
       "3                  7                        3                     0  \n",
       "4                  2                        2                     2  \n",
       "\n",
       "[5 rows x 35 columns]"
      ]
     },
     "execution_count": 53,
     "metadata": {},
     "output_type": "execute_result"
    }
   ],
   "source": [
    "data.head()"
   ]
  },
  {
   "cell_type": "code",
   "execution_count": 54,
   "metadata": {},
   "outputs": [],
   "source": [
    "# Drop variables with just one value or probably unimportant\n",
    "# Income already accounted for with variable 'MonthlyIncome'\n",
    "\n",
    "data1 = data.drop(['DailyRate','MonthlyRate','EmployeeCount','EmployeeNumber','Over18','StandardHours'],1)"
   ]
  },
  {
   "cell_type": "code",
   "execution_count": 55,
   "metadata": {},
   "outputs": [],
   "source": [
    "# Data Preprocessing - Label Encoding for categorical variables\n",
    "from sklearn.preprocessing import LabelEncoder\n",
    "\n",
    "le = LabelEncoder()\n",
    "cat_var = data1[['BusinessTravel','Department','EducationField','Attrition','Gender','JobRole','MaritalStatus','OverTime']].apply(le.fit_transform)"
   ]
  },
  {
   "cell_type": "code",
   "execution_count": 56,
   "metadata": {},
   "outputs": [],
   "source": [
    "for i in cat_var:\n",
    "    data1[i] = cat_var[i]"
   ]
  },
  {
   "cell_type": "code",
   "execution_count": 57,
   "metadata": {},
   "outputs": [],
   "source": [
    "# Split between independent and dependent variables\n",
    "# Use all potentially important variables\n",
    "\n",
    "x = data1.drop('Attrition',1)\n",
    "y = data1['Attrition']"
   ]
  },
  {
   "cell_type": "code",
   "execution_count": 58,
   "metadata": {},
   "outputs": [
    {
     "data": {
      "text/plain": [
       "0.16122448979591836"
      ]
     },
     "execution_count": 58,
     "metadata": {},
     "output_type": "execute_result"
    }
   ],
   "source": [
    "#Upsample data with SMOTE\n",
    "\n",
    "len(y[y==1])/len(y)\n",
    "\n",
    "#16% of the employees left. This is a scenario of imbalanced data."
   ]
  },
  {
   "cell_type": "code",
   "execution_count": 59,
   "metadata": {},
   "outputs": [],
   "source": [
    "oversample_50 = SMOTE(sampling_strategy=1, random_state=0)"
   ]
  },
  {
   "cell_type": "code",
   "execution_count": 60,
   "metadata": {},
   "outputs": [],
   "source": [
    "X_train, X_test, y_train, y_test = train_test_split(x, y, test_size=0.2, random_state=42)\n",
    "X_train50, y_train50 = oversample_50.fit_resample(X_train, y_train)"
   ]
  },
  {
   "cell_type": "code",
   "execution_count": 61,
   "metadata": {},
   "outputs": [
    {
     "data": {
      "text/plain": [
       "array([ True, False, False,  True, False, False,  True, False,  True,\n",
       "        True, False, False,  True, False,  True, False, False, False,\n",
       "       False, False,  True,  True, False, False,  True,  True, False,\n",
       "        True])"
      ]
     },
     "execution_count": 61,
     "metadata": {},
     "output_type": "execute_result"
    }
   ],
   "source": [
    "from sklearn.feature_selection import SelectFromModel\n",
    "from sklearn.ensemble import RandomForestClassifier\n",
    "\n",
    "sel50 = SelectFromModel(RandomForestClassifier(n_estimators = 500))\n",
    "sel50.fit(X_train50, y_train50)\n",
    "\n",
    "sel50.get_support()"
   ]
  },
  {
   "cell_type": "code",
   "execution_count": 62,
   "metadata": {},
   "outputs": [
    {
     "name": "stdout",
     "output_type": "stream",
     "text": [
      "Index(['Age', 'DistanceFromHome', 'EnvironmentSatisfaction', 'HourlyRate',\n",
      "       'JobInvolvement', 'JobSatisfaction', 'MonthlyIncome',\n",
      "       'StockOptionLevel', 'TotalWorkingYears', 'YearsAtCompany',\n",
      "       'YearsInCurrentRole', 'YearsWithCurrManager'],\n",
      "      dtype='object')\n"
     ]
    },
    {
     "data": {
      "text/plain": [
       "12"
      ]
     },
     "execution_count": 62,
     "metadata": {},
     "output_type": "execute_result"
    }
   ],
   "source": [
    "# Reveal the important features\n",
    "\n",
    "selected_feat50 = X_train50.columns[(sel50.get_support())]\n",
    "print(selected_feat50)\n",
    "len(selected_feat50)"
   ]
  },
  {
   "cell_type": "code",
   "execution_count": 63,
   "metadata": {},
   "outputs": [],
   "source": [
    "x_sel50 = X_train50[(selected_feat50)]"
   ]
  },
  {
   "cell_type": "code",
   "execution_count": 64,
   "metadata": {},
   "outputs": [
    {
     "data": {
      "text/html": [
       "<div>\n",
       "<style scoped>\n",
       "    .dataframe tbody tr th:only-of-type {\n",
       "        vertical-align: middle;\n",
       "    }\n",
       "\n",
       "    .dataframe tbody tr th {\n",
       "        vertical-align: top;\n",
       "    }\n",
       "\n",
       "    .dataframe thead th {\n",
       "        text-align: right;\n",
       "    }\n",
       "</style>\n",
       "<table border=\"1\" class=\"dataframe\">\n",
       "  <thead>\n",
       "    <tr style=\"text-align: right;\">\n",
       "      <th></th>\n",
       "      <th>Age</th>\n",
       "      <th>DistanceFromHome</th>\n",
       "      <th>EnvironmentSatisfaction</th>\n",
       "      <th>HourlyRate</th>\n",
       "      <th>JobInvolvement</th>\n",
       "      <th>JobSatisfaction</th>\n",
       "      <th>MonthlyIncome</th>\n",
       "      <th>StockOptionLevel</th>\n",
       "      <th>TotalWorkingYears</th>\n",
       "      <th>YearsAtCompany</th>\n",
       "      <th>YearsInCurrentRole</th>\n",
       "      <th>YearsWithCurrManager</th>\n",
       "    </tr>\n",
       "  </thead>\n",
       "  <tbody>\n",
       "    <tr>\n",
       "      <th>0</th>\n",
       "      <td>24</td>\n",
       "      <td>21</td>\n",
       "      <td>3</td>\n",
       "      <td>57</td>\n",
       "      <td>2</td>\n",
       "      <td>1</td>\n",
       "      <td>2296</td>\n",
       "      <td>3</td>\n",
       "      <td>2</td>\n",
       "      <td>1</td>\n",
       "      <td>1</td>\n",
       "      <td>0</td>\n",
       "    </tr>\n",
       "    <tr>\n",
       "      <th>1</th>\n",
       "      <td>18</td>\n",
       "      <td>5</td>\n",
       "      <td>2</td>\n",
       "      <td>73</td>\n",
       "      <td>3</td>\n",
       "      <td>4</td>\n",
       "      <td>1051</td>\n",
       "      <td>0</td>\n",
       "      <td>0</td>\n",
       "      <td>0</td>\n",
       "      <td>0</td>\n",
       "      <td>0</td>\n",
       "    </tr>\n",
       "    <tr>\n",
       "      <th>2</th>\n",
       "      <td>29</td>\n",
       "      <td>20</td>\n",
       "      <td>4</td>\n",
       "      <td>45</td>\n",
       "      <td>3</td>\n",
       "      <td>4</td>\n",
       "      <td>6931</td>\n",
       "      <td>1</td>\n",
       "      <td>10</td>\n",
       "      <td>3</td>\n",
       "      <td>2</td>\n",
       "      <td>2</td>\n",
       "    </tr>\n",
       "    <tr>\n",
       "      <th>3</th>\n",
       "      <td>39</td>\n",
       "      <td>12</td>\n",
       "      <td>4</td>\n",
       "      <td>66</td>\n",
       "      <td>3</td>\n",
       "      <td>2</td>\n",
       "      <td>5295</td>\n",
       "      <td>0</td>\n",
       "      <td>7</td>\n",
       "      <td>5</td>\n",
       "      <td>4</td>\n",
       "      <td>0</td>\n",
       "    </tr>\n",
       "    <tr>\n",
       "      <th>4</th>\n",
       "      <td>31</td>\n",
       "      <td>20</td>\n",
       "      <td>2</td>\n",
       "      <td>89</td>\n",
       "      <td>3</td>\n",
       "      <td>3</td>\n",
       "      <td>4197</td>\n",
       "      <td>1</td>\n",
       "      <td>10</td>\n",
       "      <td>10</td>\n",
       "      <td>8</td>\n",
       "      <td>2</td>\n",
       "    </tr>\n",
       "  </tbody>\n",
       "</table>\n",
       "</div>"
      ],
      "text/plain": [
       "   Age  DistanceFromHome  EnvironmentSatisfaction  HourlyRate  JobInvolvement  \\\n",
       "0   24                21                        3          57               2   \n",
       "1   18                 5                        2          73               3   \n",
       "2   29                20                        4          45               3   \n",
       "3   39                12                        4          66               3   \n",
       "4   31                20                        2          89               3   \n",
       "\n",
       "   JobSatisfaction  MonthlyIncome  StockOptionLevel  TotalWorkingYears  \\\n",
       "0                1           2296                 3                  2   \n",
       "1                4           1051                 0                  0   \n",
       "2                4           6931                 1                 10   \n",
       "3                2           5295                 0                  7   \n",
       "4                3           4197                 1                 10   \n",
       "\n",
       "   YearsAtCompany  YearsInCurrentRole  YearsWithCurrManager  \n",
       "0               1                   1                     0  \n",
       "1               0                   0                     0  \n",
       "2               3                   2                     2  \n",
       "3               5                   4                     0  \n",
       "4              10                   8                     2  "
      ]
     },
     "execution_count": 64,
     "metadata": {},
     "output_type": "execute_result"
    }
   ],
   "source": [
    "x_sel50.head()"
   ]
  },
  {
   "cell_type": "code",
   "execution_count": 102,
   "metadata": {},
   "outputs": [
    {
     "data": {
      "text/plain": [
       "RandomForestClassifier(n_estimators=500)"
      ]
     },
     "execution_count": 102,
     "metadata": {},
     "output_type": "execute_result"
    }
   ],
   "source": [
    "rfc50 = RandomForestClassifier(n_estimators = 500)\n",
    "rfc50.fit(X_train50,y_train50)"
   ]
  },
  {
   "cell_type": "code",
   "execution_count": 103,
   "metadata": {},
   "outputs": [],
   "source": [
    "importances = rfc50.feature_importances_\n",
    "indices = np.argsort(importances)[::-1]\n",
    "\n",
    "\n",
    "x_columns = x_sel50.columns[0:]\n",
    "\n",
    "indices = np.argsort(importances)[::-1]"
   ]
  },
  {
   "cell_type": "code",
   "execution_count": 104,
   "metadata": {},
   "outputs": [],
   "source": [
    "y_pred = rfc50.predict(X_test)\n",
    "y_prob = rfc50.predict_proba(X_test)[:,1]\n",
    "roc_auc = roc_auc_score(y_test,y_prob)\n",
    "fpr,tpr,thresholds = roc_curve(y_test,y_prob)"
   ]
  },
  {
   "cell_type": "code",
   "execution_count": 105,
   "metadata": {},
   "outputs": [],
   "source": [
    "from sklearn.metrics import confusion_matrix\n",
    "\n",
    "def roc_auc_plot(fpr, tpr, roc_auc):\n",
    "    plt.figure()\n",
    "    plt.plot(fpr, tpr, label='Random Forest (area = %0.2f)' % roc_auc)\n",
    "    plt.plot([0, 1], [0, 1],'r--')\n",
    "    plt.xlim([0.0, 1.0])\n",
    "    plt.ylim([0.0, 1.05])\n",
    "    plt.xlabel('False Positive Rate')\n",
    "    plt.ylabel('True Positive Rate')\n",
    "    plt.title('Receiver operating characteristic')\n",
    "    plt.legend(loc=\"lower right\")\n",
    "    plt.savefig('Log_ROC')\n",
    "    plt.show()"
   ]
  },
  {
   "cell_type": "code",
   "execution_count": 106,
   "metadata": {},
   "outputs": [
    {
     "name": "stdout",
     "output_type": "stream",
     "text": [
      "=============Confusion Matrix=============\n",
      "[[245  10]\n",
      " [ 26  13]]\n",
      "\n",
      "\n",
      "=============Key Metrics==================\n",
      "              precision    recall  f1-score   support\n",
      "\n",
      "           0       0.90      0.96      0.93       255\n",
      "           1       0.57      0.33      0.42        39\n",
      "\n",
      "    accuracy                           0.88       294\n",
      "   macro avg       0.73      0.65      0.68       294\n",
      "weighted avg       0.86      0.88      0.86       294\n",
      "\n",
      "=============ROC AUC======================\n"
     ]
    },
    {
     "data": {
      "image/png": "[encoded data removed]",
      "text/plain": [
       "<Figure size 432x288 with 1 Axes>"
      ]
     },
     "metadata": {},
     "output_type": "display_data"
    },
    {
     "name": "stdout",
     "output_type": "stream",
     "text": [
      "AUC: 0.7429864253393665\n"
     ]
    }
   ],
   "source": [
    "print(\"=============Confusion Matrix=============\")\n",
    "print(confusion_matrix(y_test, y_pred))\n",
    "print('\\n')\n",
    "print(\"=============Key Metrics==================\")\n",
    "print(classification_report(y_test, y_pred))\n",
    "print(\"=============ROC AUC======================\")\n",
    "roc_auc_plot(fpr, tpr, roc_auc) \n",
    "print('AUC:', roc_auc)"
   ]
  },
  {
   "cell_type": "code",
   "execution_count": null,
   "metadata": {},
   "outputs": [],
   "source": []
  },
  {
   "cell_type": "code",
   "execution_count": null,
   "metadata": {},
   "outputs": [],
   "source": []
  }
 ],
 "metadata": {
  "kernelspec": {
   "display_name": "Python 3",
   "language": "python",
   "name": "python3"
  },
  "language_info": {
   "codemirror_mode": {
    "name": "ipython",
    "version": 3
   },
   "file_extension": ".py",
   "mimetype": "text/x-python",
   "name": "python",
   "nbconvert_exporter": "python",
   "pygments_lexer": "ipython3",
   "version": "3.7.6"
  }
 },
 "nbformat": 4,
 "nbformat_minor": 4
}
